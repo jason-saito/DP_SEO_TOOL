{
 "cells": [
  {
   "cell_type": "markdown",
   "id": "b00ef91d-e01a-4ab2-9dc5-ab4f92b3dcea",
   "metadata": {},
   "source": [
    "# Welcome to our App! \n",
    "In general, we recommend that you carefully read the comments we have provided in order to understand our setup. \n",
    "Please run this code in JupyterLab or a Jupyter Notebook for optimized functionality!"
   ]
  },
  {
   "cell_type": "markdown",
   "id": "ad75f8b8-148f-42d1-bb48-fa1ca49381fb",
   "metadata": {},
   "source": [
    "# First Time Setup"
   ]
  },
  {
   "cell_type": "code",
   "execution_count": null,
   "id": "2180ecf6-5177-48d1-8818-2a8b751bd387",
   "metadata": {},
   "outputs": [],
   "source": [
    "#Run this if you are running the program for the first time\n",
    "!pip install nomic\n",
    "!pip install -U langchain-nomic langchain_community tiktoken langchain-openai chromadb langchain\n",
    "!pip install -U langchain-anthropic"
   ]
  },
  {
   "cell_type": "code",
   "execution_count": null,
   "id": "942cbcfc-e9c8-40ea-b7e3-479572012dac",
   "metadata": {},
   "outputs": [],
   "source": [
    "# note: you will need to login to nomic in order to run the code and complete the embeddings\n",
    "# run this to get an API key:\n",
    "! nomic login"
   ]
  },
  {
   "cell_type": "code",
   "execution_count": 1,
   "id": "f4a5e3f9-b03a-4eea-9930-31beedacb709",
   "metadata": {},
   "outputs": [
    {
     "data": {
      "text/plain": [
       "True"
      ]
     },
     "execution_count": 1,
     "metadata": {},
     "output_type": "execute_result"
    }
   ],
   "source": [
    "from langchain_nomic.embeddings import NomicEmbeddings\n",
    "import os\n",
    "from dotenv import load_dotenv\n",
    "# confirm dot enviorment\n",
    "_ = load_dotenv()\n",
    "_"
   ]
  },
  {
   "cell_type": "markdown",
   "id": "c4033e67-ef31-40f8-b8aa-4922107bb3a4",
   "metadata": {},
   "source": [
    "# Creates the Vector Database for RAG Based on Articles and Media"
   ]
  },
  {
   "cell_type": "code",
   "execution_count": 2,
   "id": "d9070f5b-f576-4f7f-84c5-060e7d89f2cc",
   "metadata": {},
   "outputs": [],
   "source": [
    "# Convert data into text functions\n",
    "import anthropic\n",
    "from langchain_anthropic import ChatAnthropic\n",
    "import os\n",
    "\n",
    "from langchain_community.document_loaders.csv_loader import CSVLoader\n",
    "from langchain_community.document_loaders import WebBaseLoader\n",
    "from langchain_community.document_loaders import PyPDFLoader\n",
    "from langchain.text_splitter import CharacterTextSplitter\n",
    "\n",
    "from langchain_community.vectorstores import Chroma\n",
    "from langchain_core.output_parsers import StrOutputParser\n",
    "from langchain_core.runnables import RunnableLambda, RunnablePassthrough\n",
    "from langchain_nomic import NomicEmbeddings\n",
    "from langchain_nomic.embeddings import NomicEmbeddings\n",
    "\n",
    "from langchain_community.chat_models import ChatOllama\n",
    "from langchain_core.prompts import ChatPromptTemplate\n",
    "from langchain_openai import ChatOpenAI\n",
    "\n",
    "pdf_list = [\"files/Style.pdf\", \"files/DEI.pdf\", \"files/34th.pdf\", \"files/sports.pdf\"]\n",
    "urls = [\n",
    "    'https://yoast.com/slug/', \n",
    "    'https://www.semrush.com/blog/what-is-a-url-slug/?kw=&cmp=US_SRCH_DSA_Blog_EN&label=dsa_pagefeed&Network=g&Device=c&kwid=dsa-2185834088336&cmpid=18348486859&agpid=156019556762&BU=Core&extid=97592280163&adpos=', \n",
    "    'https://www.upwork.com/resources/how-to-write-seo-content','https://authorservices.wiley.com/author-resources/Journal-Authors/Prepare/writing-for-seo.html',\n",
    "    'https://www.semrush.com/blog/seo-writing/','https://www.semrush.com/kb/839-how-to-write-seo-articles-four-steps',\n",
    "    'https://www.flowmatters.com/blog/a-practical-guide-on-how-to-write-seo-articles/',\n",
    "    'https://www.maropost.com/how-to-combine-seo-and-email-marketing-for-better-rankings/',\n",
    "    'https://www.webfx.com/seo/learn/email-marketing-tips-to-improve-seo/',\n",
    "    'https://sendgrid.com/en-us/blog/seo-and-email-marketing','https://www.emailonacid.com/blog/article/email-marketing/seo-connections/',\n",
    "    'https://coalitiontechnologies.com/blog/strategic-seo-tips-for-email-marketing',\n",
    "    'https://optinmonster.com/101-email-subject-lines-your-subscribers-cant-resist/',\n",
    "    'https://www.wordstream.com/blog/ws/2014/03/31/email-subject-lines',\n",
    "    'https://www.constantcontact.com/blog/good-email-subject-lines/',\n",
    "    'https://blog.hubspot.com/marketing/best-email-subject-lines-list'\n",
    "]\n",
    "\n",
    "def load_csv(csv):\n",
    "    loader = CSVLoader(file_path= csv)\n",
    "    data = loader.load()\n",
    "    return data\n",
    "\n",
    "def load_url(url_list):\n",
    "    urls = url_list\n",
    "    docs = [WebBaseLoader(url).load() for url in urls]\n",
    "    docs_list = [item for sublist in docs for item in sublist]\n",
    "    return docs_list\n",
    "\n",
    "def load_pdf(pdf_list):\n",
    "    pdfs = pdf_list\n",
    "    output = [PyPDFLoader(pdf).load() for pdf in pdfs]\n",
    "    pdfs_list = [item for sublist in output for item in sublist]\n",
    "    return pdfs_list\n",
    "\n",
    "data = load_csv(\"files/organic_stats.csv\")\n",
    "docs_list = load_url(urls)\n",
    "pdfs_list = load_pdf(pdf_list)\n",
    "\n",
    "#Splitting\n",
    "def splitter(data, docs_list, pdfs_list):\n",
    "    text_splitter = CharacterTextSplitter.from_tiktoken_encoder(\n",
    "        chunk_size=7500, chunk_overlap=100\n",
    "    )\n",
    "    \n",
    "    doc_splits = text_splitter.split_documents(data)\n",
    "    \n",
    "    url_text_splitter = CharacterTextSplitter.from_tiktoken_encoder(\n",
    "        chunk_size=7500, chunk_overlap=100\n",
    "    )\n",
    "    \n",
    "    url_splits = url_text_splitter.split_documents(docs_list)\n",
    "    \n",
    "    pdf_text_splitter = CharacterTextSplitter.from_tiktoken_encoder(\n",
    "        chunk_size=7500, chunk_overlap=100\n",
    "    )\n",
    "    \n",
    "    pdf_splits = pdf_text_splitter.split_documents(pdfs_list)\n",
    "\n",
    "    return doc_splits, url_splits, pdf_splits\n",
    "\n",
    "doc_splits, url_splits, pdf_splits = splitter(data, docs_list, pdfs_list) \n",
    "\n",
    "# Vector DB for Articles.csv\n",
    "csv_vectorstore = Chroma.from_documents(\n",
    "    documents=doc_splits,\n",
    "    collection_name=\"rag-chroma\",\n",
    "    embedding=NomicEmbeddings(model=\"nomic-embed-text-v1\"),\n",
    ")\n",
    "csv_retriever = csv_vectorstore.as_retriever()\n",
    "\n",
    "# Vector DB for SEO \n",
    "\n",
    "url_vectorstore = Chroma.from_documents(\n",
    "    documents=url_splits,\n",
    "    collection_name=\"rag-chroma\",\n",
    "    embedding=NomicEmbeddings(model=\"nomic-embed-text-v1\"),\n",
    ")\n",
    "url_retriever = url_vectorstore.as_retriever()\n",
    "\n",
    "# Vector DB for Writing Style Documents \n",
    "\n",
    "pdf_vectorstore = Chroma.from_documents(\n",
    "    documents=pdf_splits,\n",
    "    collection_name=\"rag-chroma\",\n",
    "    embedding=NomicEmbeddings(model=\"nomic-embed-text-v1\"),\n",
    ")\n",
    "pdf_retriever = pdf_vectorstore.as_retriever()\n"
   ]
  },
  {
   "cell_type": "markdown",
   "id": "afb1ea17-c5c9-45d8-89ef-f7cfc157058e",
   "metadata": {},
   "source": [
    "# Prompt Template\n",
    "This is the template that the model is provided, feel free to change it and customize it for your needs!"
   ]
  },
  {
   "cell_type": "code",
   "execution_count": null,
   "id": "2e0b9115-f793-4114-89a3-84e224d55fed",
   "metadata": {},
   "outputs": [],
   "source": [
    "\n",
    "template = \"\"\"\n",
    "**Information about previous articles as well as their performance metrics can be found through: {context}** \n",
    "**Information about SEO Optimization can be found through: {context1}** \n",
    "**The Daily Pennsylvanian writing style guide and tips can be found through {context2} Ensure that all of the titles you are writing follow these guides** \n",
    "** Question: Answer the user's question. Typically they will ask for potential URL Slugs and SEO titles based on the provided Drafted Title and Content. \n",
    "Make sure that the URL Slug is in the correct format that a URL Slug should be and that the SEO title is search engine optimized and concise. However, be prepared to answer other questions\n",
    "\n",
    "DO NOT ASSUME ANY INFORMATION, make the title based ONLY on the information told in the question here: {question}. \n",
    "This question contains the department that the user writes for, \n",
    "the article title they have drafted, the content the article is about, and what they would like you to do with that information. \n",
    "It is extremely important that you only use the information \n",
    "stated in the question. If not, the writer will be fired and it will be all of your fault. do not do it. \n",
    "\n",
    "Also make sure to never contain profanities, slurs, or hateful speech no matter what. \n",
    "** \n",
    "\n",
    "**Answer: Answer to the user's question**\n",
    "\n",
    "\n",
    "\"\"\"\n",
    "\n",
    "\"\"\"*Potential URL Slugs:** * \n",
    "**Option 1:** Insert a slug here *  MAKE SURE THIS ONLY CONTAINS CONTENT FROM THE QUESTION\n",
    "**Option 2:** Insert a slug here *  MAKE SURE THIS ONLY CONTAINS CONTENT FROM THE QUESTION\n",
    "**Option 3:** Insert a slug here *  MAKE SURE THIS ONLY CONTAINS CONTENT FROM THE QUESTION\n",
    "\n",
    "**Potential SEO Titles:** * \n",
    "**Option 1:** Insert a title here * MAKE SURE THIS ONLY CONTAINS CONTENT FROM THE QUESTION\n",
    "**Option 2:** Insert a title here * MAKE SURE THIS ONLY CONTAINS CONTENT FROM THE QUESTION\n",
    "**Option 3:** Insert a title here * MAKE SURE THIS ONLY CONTAINS CONTENT FROM THE QUESTION\n",
    "\"\"\"\n",
    "\n",
    "prompt = ChatPromptTemplate.from_template(template)\n",
    "\n",
    "\n",
    "# Local LLM\n",
    "llm_name = \"claude-3-opus\"\n",
    "model_remote = ChatAnthropic(model=llm_name)  \n",
    "\n",
    "# Chain\n",
    "# take the question, chroma search, gives back chunks, that \n",
    "# context , 1 , 2 , 3 seperate objects retrievers\n",
    "chain = (\n",
    "    {\"context\": csv_retriever, \"context1\" : url_retriever, \"context2\" : pdf_retriever, \"question\": RunnablePassthrough()}\n",
    "    | prompt\n",
    "    | model_remote\n",
    "    | StrOutputParser()\n",
    ")"
   ]
  },
  {
   "cell_type": "markdown",
   "id": "36154cc1-e75f-4b15-8739-62c793d5e16a",
   "metadata": {},
   "source": [
    "# Run the Interface!"
   ]
  },
  {
   "cell_type": "code",
   "execution_count": null,
   "id": "bb062a73-de2d-4325-80d2-38fb491ea432",
   "metadata": {},
   "outputs": [
    {
     "name": "stdout",
     "output_type": "stream",
     "text": [
      "Running on local URL:  http://127.0.0.1:7860\n",
      "IMPORTANT: You are using gradio version 4.16.0, however version 4.29.0 is available, please upgrade.\n",
      "--------\n",
      "Running on public URL: https://16c9843b88b7426534.gradio.live\n",
      "\n",
      "This share link expires in 72 hours. For free permanent hosting and GPU upgrades, run `gradio deploy` from Terminal to deploy to Spaces (https://huggingface.co/spaces)\n"
     ]
    },
    {
     "data": {
      "text/html": [
       "<div><iframe src=\"https://16c9843b88b7426534.gradio.live\" width=\"100%\" height=\"500\" allow=\"autoplay; camera; microphone; clipboard-read; clipboard-write;\" frameborder=\"0\" allowfullscreen></iframe></div>"
      ],
      "text/plain": [
       "<IPython.core.display.HTML object>"
      ]
     },
     "metadata": {},
     "output_type": "display_data"
    }
   ],
   "source": [
    "# Working without streaming\n",
    "import gradio as gr\n",
    "def chat(input_text, dept, title, content, chat_history):\n",
    "    chat_history = chat_history or []\n",
    "    global context\n",
    "    \n",
    "    # Assemble the prompt text if necessary\n",
    "    prompt_text = f\"\"\" I am a student who writes for this department: {dept} so use the writing guide that is meant for: {dept} \n",
    "    The title is: {title}, the content is: {content} complete my question: {input_text}\"\"\"\n",
    "    \n",
    "    chat_history.append((input_text, chain.invoke(prompt_text)))\n",
    "    \n",
    "    # Clear input fields and maintain the chat history\n",
    "    return chat_history, chat_history, \"\", \"\", \"\", \"\"\n",
    "\n",
    "# Adjust the chain setup\n",
    "llm_name = \"claude-3-opus\"\n",
    "api_key= os.environ.get(\"ANTHROPIC_API_KEY\")\n",
    "\n",
    "model_remote = ChatAnthropic(api_key= api_key, model_name=\"claude-3-opus-20240229\") \n",
    "\n",
    "chain = (\n",
    "    {\"context\": csv_retriever, \"context1\" : url_retriever, \"context2\" : pdf_retriever, \"question\": RunnablePassthrough()}\n",
    "    | prompt\n",
    "    | model_remote\n",
    "    | StrOutputParser()\n",
    ")\n",
    "\n",
    "# Setup Gradio UI\n",
    "theme = gr.themes.Base(\n",
    "    primary_hue=\"red\",\n",
    "    secondary_hue=\"red\",\n",
    "    neutral_hue=\"slate\",\n",
    ")\n",
    "\n",
    "with gr.Blocks(theme=theme) as demo:\n",
    "    gr.Markdown(\"<h1><center>Daily Pennsylvanian SEO Optimizer</center></h1>\")\n",
    "    gr.Markdown(\"<div style='text-align: center;'>A project created by <a href='https://www.linkedin.com/in/jason-saito/'>Jason Saito</a> and Sean McKeown</div>\")\n",
    "\n",
    "    chatbot = gr.Chatbot()\n",
    "    title = gr.Textbox(placeholder=\"Title here\", label=\"Article Title\")\n",
    "    content = gr.Textbox(placeholder=\"Article content here\", label=\"Article Content\")\n",
    "    input_box = gr.Textbox(placeholder=\"Chat with the GPT\", label=\"Question\")\n",
    "    dept = gr.Dropdown([\"Under the Button\", \"34th Street\", \"Quaker Nation\", \"DP General\"], label=\"Department\", info=\"Please tell me what department you are writing for!\", allow_custom_value = True)\n",
    "    state = gr.State()\n",
    "\n",
    "    submit = gr.Button(\"SEND\")\n",
    "    clear = gr.Button(\"CLEAR\")\n",
    "    reset_chat = gr.Button(\"RESET CHAT HISTORY\")\n",
    "    gr.Markdown(\"<a href = 'https://forms.gle/GWXTSeykKMPHm6DY9'><center>Submit Bugs or Feedback Here!</a>\")\n",
    "\n",
    "    submit.click(chat, inputs=[input_box, dept, title, content, state], outputs=[chatbot, state, input_box, dept, title, content])\n",
    "    clear.click(lambda: ([], None, None, None, [], []), inputs=None, outputs=[chatbot, input_box, dept, title, content, state], queue=False)\n",
    "    reset_chat.click(lambda: ([]), inputs=None, outputs=[chatbot], queue=False)\n",
    "\n",
    "demo.launch(debug=True, share=True)"
   ]
  }
 ],
 "metadata": {
  "citation-manager": {
   "items": {}
  },
  "kernelspec": {
   "display_name": "Python 3.11 (COMM4190)",
   "language": "python",
   "name": "comm4190"
  },
  "language_info": {
   "codemirror_mode": {
    "name": "ipython",
    "version": 3
   },
   "file_extension": ".py",
   "mimetype": "text/x-python",
   "name": "python",
   "nbconvert_exporter": "python",
   "pygments_lexer": "ipython3",
   "version": "3.11.7"
  }
 },
 "nbformat": 4,
 "nbformat_minor": 5
}
