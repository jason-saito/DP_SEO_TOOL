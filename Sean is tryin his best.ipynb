{
 "cells": [
  {
   "cell_type": "markdown",
   "id": "73ac362f-5b81-4627-8274-96bddb406c86",
   "metadata": {},
   "source": [
    "# Sean adding stuff"
   ]
  },
  {
   "cell_type": "code",
   "execution_count": null,
   "id": "f9349096-a573-4f0c-a1a7-996dc039664a",
   "metadata": {},
   "outputs": [],
   "source": []
  }
 ],
 "metadata": {
  "citation-manager": {
   "items": {}
  },
  "kernelspec": {
   "display_name": "Python 3.8",
   "language": "python",
   "name": "python3"
  },
  "language_info": {
   "codemirror_mode": {
    "name": "ipython",
    "version": 3
   },
   "file_extension": ".py",
   "mimetype": "text/x-python",
   "name": "python",
   "nbconvert_exporter": "python",
   "pygments_lexer": "ipython3",
   "version": "3.8.8"
  }
 },
 "nbformat": 4,
 "nbformat_minor": 5
}
