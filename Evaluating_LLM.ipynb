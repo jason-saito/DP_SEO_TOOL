{
 "cells": [
  {
   "cell_type": "markdown",
   "id": "bfdceb91-9671-4e20-8bef-96d56c2289df",
   "metadata": {},
   "source": [
    "# Pros + Cons of Claude 3 Opus\n",
    "\n",
    "## Pros\n",
    "- Follows the prompt template very accurately\n",
    "- Doesn't generate fake content/articles\n",
    "- Ease of use\n",
    "- Accessibility through API rather than Ollama\n",
    "- Fast response time\n",
    "\n",
    "## Cons \n",
    "- Unsure if it is fully utilizing the contexts (other models specifically reference other DP articles)\n",
    "- Sometimes the titles are lackluster\n",
    "\n",
    "Overall, I am very impressed with the Opus model. It gives very good outputs that are accurate and hasn't hallucinated any outputs. It sticks to the prompt template very well. In the future, I would like to test its ability to recall and reference previous articles and their associated metrics. But overall, I am very happy with the Claude 3 Opus model!"
   ]
  },
  {
   "cell_type": "markdown",
   "id": "a82307dd-ba89-4a97-b2f7-711c4bfdbfbd",
   "metadata": {},
   "source": [
    "# Next Notebook: [Try the App!](App.ipynb)"
   ]
  }
 ],
 "metadata": {
  "citation-manager": {
   "items": {}
  },
  "kernelspec": {
   "display_name": "Python 3.11 (COMM4190)",
   "language": "python",
   "name": "comm4190"
  },
  "language_info": {
   "codemirror_mode": {
    "name": "ipython",
    "version": 3
   },
   "file_extension": ".py",
   "mimetype": "text/x-python",
   "name": "python",
   "nbconvert_exporter": "python",
   "pygments_lexer": "ipython3",
   "version": "3.11.7"
  }
 },
 "nbformat": 4,
 "nbformat_minor": 5
}
