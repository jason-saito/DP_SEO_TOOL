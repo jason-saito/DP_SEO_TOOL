{
 "cells": [
  {
   "cell_type": "markdown",
   "id": "bfdceb91-9671-4e20-8bef-96d56c2289df",
   "metadata": {},
   "source": [
    "# Pros + Cons of Claude 3 Opus\n",
    "\n",
    "In the future I hope to use the LLama3 model when it becomes easier to implement into the code. Through our experiences, implementing Opus has been the easiest and most portable option. However, it seems like other models such as LLama3 have really powerful upside. \n",
    "\n",
    "We were overall pretty satisfied with this model. Although its outputs are mind-blowing, they do a good job at doing what's asked of it. Specifically we really liked how it followed the prompt template and refused to answer when provided with a lack of information. \n",
    "\n",
    "Some specific cases where we were really impressed. \n",
    "\n",
    "In addition, this model was the easiest to implement in the code. Since it uses an API to interact with the model rather than using Ollama, it makes it a lot easier for others to use. Since our end goal is for the writers of the Daily Pennsylvanian to use this tool, we want to make it very accessible. \n",
    "\n",
    "Thus, asking them to install Ollama, pull the model, and run it on a jupyter notebook is too much of a hastle. We thought it be much easier for them to simply run the code we provide and access the app. This is why we ended up going with the Opus model."
   ]
  },
  {
   "cell_type": "markdown",
   "id": "a82307dd-ba89-4a97-b2f7-711c4bfdbfbd",
   "metadata": {},
   "source": [
    "# Next Notebook: [Try the App!](App.ipynb)"
   ]
  }
 ],
 "metadata": {
  "citation-manager": {
   "items": {}
  },
  "kernelspec": {
   "display_name": "Python 3.11 (COMM4190)",
   "language": "python",
   "name": "comm4190"
  },
  "language_info": {
   "codemirror_mode": {
    "name": "ipython",
    "version": 3
   },
   "file_extension": ".py",
   "mimetype": "text/x-python",
   "name": "python",
   "nbconvert_exporter": "python",
   "pygments_lexer": "ipython3",
   "version": "3.11.7"
  }
 },
 "nbformat": 4,
 "nbformat_minor": 5
}
