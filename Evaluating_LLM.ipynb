{
 "cells": [
  {
   "cell_type": "markdown",
   "id": "bfdceb91-9671-4e20-8bef-96d56c2289df",
   "metadata": {},
   "source": [
    "# Pros + Cons of Claude 3 Opus\n",
    "\n",
    "In the future I hope to use the LLama3 model when it becomes easier to implement into the code. Through our experiences, implementing Opus has been the easiest and most portable option. However, it seems like other models such as LLama3 have really powerful upside. "
   ]
  },
  {
   "cell_type": "markdown",
   "id": "a82307dd-ba89-4a97-b2f7-711c4bfdbfbd",
   "metadata": {},
   "source": [
    "Next Notebook: [Try the App!](App.ipynb)"
   ]
  }
 ],
 "metadata": {
  "citation-manager": {
   "items": {}
  },
  "kernelspec": {
   "display_name": "Python 3.11 (COMM4190)",
   "language": "python",
   "name": "comm4190"
  },
  "language_info": {
   "codemirror_mode": {
    "name": "ipython",
    "version": 3
   },
   "file_extension": ".py",
   "mimetype": "text/x-python",
   "name": "python",
   "nbconvert_exporter": "python",
   "pygments_lexer": "ipython3",
   "version": "3.11.7"
  }
 },
 "nbformat": 4,
 "nbformat_minor": 5
}
