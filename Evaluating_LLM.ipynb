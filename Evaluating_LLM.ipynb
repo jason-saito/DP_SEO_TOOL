{
 "cells": [
  {
   "cell_type": "code",
   "execution_count": null,
   "id": "25f509a2-f3cd-4771-a46d-7e1d09283aeb",
   "metadata": {},
   "outputs": [],
   "source": []
  },
  {
   "cell_type": "code",
   "execution_count": null,
   "id": "371bcc69-48f0-4fe0-a3d3-7efb96df7d73",
   "metadata": {},
   "outputs": [],
   "source": []
  },
  {
   "cell_type": "markdown",
   "id": "a82307dd-ba89-4a97-b2f7-711c4bfdbfbd",
   "metadata": {},
   "source": [
    "Next Notebook: [Try the App!](App.ipynb)"
   ]
  }
 ],
 "metadata": {
  "citation-manager": {
   "items": {}
  },
  "kernelspec": {
   "display_name": "Python 3.11 (COMM4190)",
   "language": "python",
   "name": "comm4190"
  },
  "language_info": {
   "codemirror_mode": {
    "name": "ipython",
    "version": 3
   },
   "file_extension": ".py",
   "mimetype": "text/x-python",
   "name": "python",
   "nbconvert_exporter": "python",
   "pygments_lexer": "ipython3",
   "version": "3.11.7"
  }
 },
 "nbformat": 4,
 "nbformat_minor": 5
}
