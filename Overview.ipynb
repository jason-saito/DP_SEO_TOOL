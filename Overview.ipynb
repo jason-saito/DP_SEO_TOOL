{
 "cells": [
  {
   "cell_type": "markdown",
   "id": "73ac362f-5b81-4627-8274-96bddb406c86",
   "metadata": {},
   "source": [
    "# Outline Of How It Functions"
   ]
  },
  {
   "cell_type": "markdown",
   "id": "392cc0b7-a24f-4756-8dcd-16f912361218",
   "metadata": {},
   "source": [
    "### What Can DP SEO do and not do?"
   ]
  },
  {
   "cell_type": "markdown",
   "id": "ce4b6d0d-d06a-447a-85df-b182c61c6198",
   "metadata": {},
   "source": [
    "With our hyper-specific model and confined user base, our product directly provides writers in the Daily Pennsylvanian with userpathways that can help no matter where they are in their writing process. In all cases, it is suggested that the user provides their full article, title, and what department they work for. This helps narrow down the information pool Claude Opus has to work from."
   ]
  },
  {
   "cell_type": "markdown",
   "id": "a8147d82-5aa5-40ff-a73d-45338c12b334",
   "metadata": {},
   "source": [
    "1. When an inexperienced writer has completed an article, but is unsure of whether the language they used best fits the DP's precedent/style guide, they can ask the interface if their work matches the style guide or needs improving.\n",
    "2. When a article is completed that the company has hopes for \"going viral\", a potential writer can submit their work and ask if their is any suggested language changes that can improve the articles online viability. On top of this, the A.I. can suggest key words that can be placed into the the articles \"slug-link\" which helps its searchability when published.\n",
    "3. When focusing on viability on social media platforms, the A.I. can provide a potential writer with the most marketable titles for posts on platforms like Meta, X, or any other platforms that the DP has statistics for.   "
   ]
  },
  {
   "cell_type": "markdown",
   "id": "2ece7f89-d726-42bb-af1b-d592e030742e",
   "metadata": {},
   "source": [
    "A list of questions a writer or editor can ask the interface:\n",
    "- What key words would be best for my slug before I publish?\n",
    "- Does my article follow the DP's style guide?\n",
    "- Before I publish on twitter, what caption would be best?\n",
    "- Before I publish on meta (facebook or instagram), what caption would be best?\n",
    "- Is there certain language changes I can make in my article before publishing that will help it's vitality?\n",
    "- How have articles similar to mine performed in the past regarding clicks and retention time?"
   ]
  },
  {
   "cell_type": "markdown",
   "id": "da595c50-4762-42c3-be77-d326a173db3a",
   "metadata": {},
   "source": [
    "## How the prompting is created (general description)?"
   ]
  },
  {
   "cell_type": "markdown",
   "id": "e87c0458-1e20-4ba4-8526-a2cc490b0f6d",
   "metadata": {},
   "source": [
    "A 3-vector (SEO articles, publication data, and DP style guide) retrieval augmented generation-based AI system is a type of language model that combines the strengths of traditional language generation with the power of retrieval-based methods. Here's a breakdown of how it works:\n",
    "\n",
    "**Overview**\n",
    "\n",
    "The system consists of three main components:\n",
    "\n",
    "1. **Vector Retrieval**: This module is responsible for retrieving relevant vectors ( dense numerical representations) from a large database or knowledge base.\n",
    "2. **Generation**: This module is a traditional language generation model, such as a transformer-based architecture (e.g., BERT, RoBERTa).\n",
    "3. **Augmentation**: This module combines the output from the retrieval and generation modules to produce the final response.\n",
    "\n",
    "**How it works**\n",
    "\n",
    "Here's a step-by-step explanation:\n",
    "\n",
    "**Step 1: Input and Embedding**\n",
    "\n",
    "* The system receives an input prompt or query, which is converted into a numerical representation (embedding) using a technique like word embeddings.\n",
    "\n",
    "**Step 2: Vector Retrieval**\n",
    "\n",
    "* The input embedding is used to query a large database or knowledge base, which contains a massive collection of vectors. These vectors represent various pieces of text, such as sentences, paragraphs, or articles.\n",
    "* The retrieval module uses a similarity metric (e.g., cosine similarity, dot product) to find the top-N most similar vectors to the input embedding. These vectors are retrieved from the database and passed to the next module.\n",
    "\n",
    "**Step 3: Generation**\n",
    "\n",
    "* The generation module is a traditional language generation model, which takes the input embedding as input and generates a response. This response is typically a sequence of tokens (e.g., words, characters).\n",
    "\n",
    "**Step 4: Augmentation**\n",
    "\n",
    "* The augmentation module combines the retrieved vectors from Step 2 with the generated response from Step 3.\n",
    "* The retrieved vectors are used to augment the generated response by adding relevant information, such as specific details, examples, or context. This is done by fusing the vectors with the generated response using techniques like vector concatenation, attention mechanisms, or pointer networks.\n",
    "\n",
    "**Step 5: Output**\n",
    "\n",
    "* The final response is produced by the augmentation module, which incorporates the relevant information from the retrieved vectors into the generated response.\n",
    "\n",
    "**Benefits**\n",
    "\n",
    "This architecture offers several advantages:\n",
    "\n",
    "* **Improved accuracy**: By incorporating relevant information from the knowledge base, the system can generate more accurate and informative responses.\n",
    "* **Increased diversity**: The retrieval module can provide diverse perspectives and examples, which can enhance the overall quality of the generated response.\n",
    "* **Efficient use of knowledge**: The system can leverage a large knowledge base without having to generate responses from scratch, making it more efficient and scalable."
   ]
  },
  {
   "cell_type": "markdown",
   "id": "35447e90-7e77-48b8-a65b-9697573235b1",
   "metadata": {},
   "source": [
    "## What This Looks Like In Our Specific Interface"
   ]
  },
  {
   "cell_type": "markdown",
   "id": "6e712f56-bf6d-4e4c-9cdb-504dff4caecc",
   "metadata": {},
   "source": [
    "**Overview**\n",
    "\n",
    "1. **Previous articles' data analytics**: This input provides information about the performance of existing articles, such as engagement metrics, reader behavior, and topic popularity.\n",
    "2. **DP writing style guide**: This input incorporates the company's writing style, tone, and voice, ensuring consistency across all content.\n",
    "3. **SEO optimization articles**: This input includes data on search engine optimization best practices, keyword research, and content optimization strategies.\n",
    "\n",
    "These inputs are used to generate potential headlines, SEO keywords, and other relevant information to support the creation of high-quality content that resonates with the target audience.\n",
    "\n",
    "**Technical Process**\n",
    "\n",
    "Here's a more detailed, technical explanation of the process:\n",
    "\n",
    "**Step 1: Data Ingestion and Preprocessing**\n",
    "\n",
    "* The interface ingests the three input datasets:\n",
    "        + Previous articles' data analytics: This data is taken from the companies tracking websites in the form of a CSV:\n",
    "                - Article topics and categories\n",
    "                - Engagement metrics (e.g., views, clicks, time on page)\n",
    "                - Reader behavior\n",
    "                - How the reader found the content (organic search, social media, newsletter)\n",
    "        + DP writing style guide: This input is likely a set of guidelines, rules, and examples that define the company's writing style, tone, and voice.\n",
    "        + SEO optimization articles: This input includes data on SEO best practices, keyword research, and content optimization strategies.\n",
    "* The data is preprocessed to create a unified representation, which may involve:\n",
    "        + Tokenization: breaking down text into individual words or tokens\n",
    "        + Vectorization: converting text data into numerical vectors using techniques like word embeddings\n",
    "\n",
    "**Step 2: Vector Retrieval**\n",
    "\n",
    "* The preprocessed data is used to create a vector database, which stores the numerical representations of the input data.\n",
    "* When a new article is being created, the interface uses the input data to generate a query vector, which is used to retrieve relevant vectors from the database.\n",
    "* The retrieval module uses a similarity metric (e.g., cosine similarity, dot product) to find the top-N most similar vectors to the query vector. These vectors are retrieved from the database and passed to the next module.\n",
    "\n",
    "**Step 3: Claude Opus-based Generation**\n",
    "\n",
    "* The retrieved vectors are fed into a Claude Opus-based generation model, which is a type of transformer-based architecture.\n",
    "* The generation model uses the input vectors to generate potential headlines, SEO keywords, and other relevant information.\n",
    "* The model is trained on a large dataset of text and is capable of generating high-quality, coherent text that meets the company's writing style and SEO optimization guidelines.\n",
    "\n",
    "**Step 4: Post-processing and Ranking**\n",
    "\n",
    "* The generated headlines, SEO keywords, and other information are post-processed to:\n",
    "        + Remove duplicates or near-duplicates\n",
    "        + Filter out low-quality or irrelevant suggestions\n",
    "        + Rank the remaining suggestions based on their relevance, quality, and potential impact on the article's performance\n",
    "\n",
    "**Step 5: Output and Integration**\n",
    "\n",
    "* The final output is a list of potential headlines, SEO keywords, and other relevant information that can be used to support the creation of high-quality content.\n",
    "* The interface is integrated with the company's content management system, allowing writers and editors to access the generated suggestions and incorporate them into their articles.\n",
    "\n",
    "By leveraging the strengths of RAG and Claude Opus-based generation, the interface can produce high-quality content that resonates with the target audience, while upholding the company's writing standards and SEO optimization."
   ]
  },
  {
   "cell_type": "markdown",
   "id": "bf12bc73-a5bd-4b00-a2e4-57bf7bc44c06",
   "metadata": {},
   "source": [
    "## Limitations"
   ]
  },
  {
   "cell_type": "markdown",
   "id": "e14cd0f0-2498-4a7f-ab5b-b9aa3661b29e",
   "metadata": {},
   "source": [
    "**Isn't easily readable**\n",
    "\n",
    "- The answers shouldn't be taken as law, which means writers needs to have critical thinking when assessing their results.\n",
    "\n",
    "**Direct Data/Word Questions**\n",
    "\n",
    "- The A.I. can recommend valuable information based off of the data, but you can not request the A.I. to show you the data and assess it yourself.\n",
    "- The A.I. suggests word use based on performance and SEO information, but can't back up its reasoning when questioned."
   ]
  },
  {
   "cell_type": "markdown",
   "id": "10068364-9bb3-43b2-8e8a-aa7658a8f62d",
   "metadata": {},
   "source": [
    "**Next Link**\n",
    "\n",
    "[Pathways.txt](Pathways.ipynb)"
   ]
  },
  {
   "cell_type": "code",
   "execution_count": null,
   "id": "a287dc70-34f0-453c-b2d2-f60ccaafa4d2",
   "metadata": {},
   "outputs": [],
   "source": []
  }
 ],
 "metadata": {
  "citation-manager": {
   "items": {}
  },
  "kernelspec": {
   "display_name": "Python 3.8",
   "language": "python",
   "name": "python3"
  },
  "language_info": {
   "codemirror_mode": {
    "name": "ipython",
    "version": 3
   },
   "file_extension": ".py",
   "mimetype": "text/x-python",
   "name": "python",
   "nbconvert_exporter": "python",
   "pygments_lexer": "ipython3",
   "version": "3.8.8"
  }
 },
 "nbformat": 4,
 "nbformat_minor": 5
}
