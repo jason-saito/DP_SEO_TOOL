{
 "cells": [
  {
   "cell_type": "markdown",
   "id": "53f2fdbd-dd1d-46aa-81ee-18e1eec6bdf5",
   "metadata": {},
   "source": [
    "# Mistral Instruct\n",
    "\n",
    "\n",
    "# LLama3 \n",
    "\n",
    "\n",
    "# Claude Opus 3\n",
    "We were overall pretty satisfied with this model. Although its outputs are mind-blowing, they do a good job at doing what's asked of it. Specifically we really liked how it followed the prompt template and refused to answer when provided with a lack of information. \n",
    "\n",
    "Some specific cases where we were really impressed. \n",
    "\n",
    "In addition, this model was the easiest to implement in the code. Since it uses an API to interact with the model rather than using Ollama, it makes it a lot easier for others to use. Since our end goal is for the writers of the Daily Pennsylvanian to use this tool, we want to make it very accessible. \n",
    "\n",
    "Thus, asking them to install Ollama, pull the model, and run it on a jupyter notebook is too much of a hastle. We thought it be much easier for them to simply run the code we provide and access the app. This is why we ended up going with the Opus model."
   ]
  },
  {
   "cell_type": "markdown",
   "id": "a3df10fe-7a2a-4630-b704-bda98a7b571b",
   "metadata": {},
   "source": [
    "Next Notebook: [Model Creation](Model_Creation.ipynb)"
   ]
  },
  {
   "cell_type": "code",
   "execution_count": null,
   "id": "cfa2480e-365b-4cba-a498-92b0edbcc28c",
   "metadata": {},
   "outputs": [],
   "source": []
  }
 ],
 "metadata": {
  "citation-manager": {
   "items": {}
  },
  "kernelspec": {
   "display_name": "Python 3.11 (COMM4190)",
   "language": "python",
   "name": "comm4190"
  },
  "language_info": {
   "codemirror_mode": {
    "name": "ipython",
    "version": 3
   },
   "file_extension": ".py",
   "mimetype": "text/x-python",
   "name": "python",
   "nbconvert_exporter": "python",
   "pygments_lexer": "ipython3",
   "version": "3.11.7"
  }
 },
 "nbformat": 4,
 "nbformat_minor": 5
}
