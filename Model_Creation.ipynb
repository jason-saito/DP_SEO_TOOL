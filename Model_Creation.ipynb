{
 "cells": [
  {
   "cell_type": "markdown",
   "id": "da7e3e4f-fdd4-459e-97d2-31258f56f74d",
   "metadata": {},
   "source": [
    "The model was created"
   ]
  },
  {
   "cell_type": "markdown",
   "id": "c22ae5f3-874f-4155-a196-2e1bcce959b4",
   "metadata": {},
   "source": [
    "Next Notebook: [Evaluating the LLMs](Evaluating_LLM.ipynb)"
   ]
  },
  {
   "cell_type": "code",
   "execution_count": null,
   "id": "9a16113e-baaf-496d-83db-269d23aafad0",
   "metadata": {},
   "outputs": [],
   "source": []
  }
 ],
 "metadata": {
  "citation-manager": {
   "items": {}
  },
  "kernelspec": {
   "display_name": "Python 3.11 (COMM4190)",
   "language": "python",
   "name": "comm4190"
  },
  "language_info": {
   "codemirror_mode": {
    "name": "ipython",
    "version": 3
   },
   "file_extension": ".py",
   "mimetype": "text/x-python",
   "name": "python",
   "nbconvert_exporter": "python",
   "pygments_lexer": "ipython3",
   "version": "3.11.7"
  }
 },
 "nbformat": 4,
 "nbformat_minor": 5
}
